{
  "nbformat": 4,
  "nbformat_minor": 0,
  "metadata": {
    "colab": {
      "name": "Wav2Lip ENG.ipynb",
      "provenance": [],
      "collapsed_sections": [],
      "include_colab_link": true
    },
    "kernelspec": {
      "name": "python3",
      "display_name": "Python 3"
    },
    "accelerator": "GPU"
  },
  "cells": [
    {
      "cell_type": "markdown",
      "metadata": {
        "id": "view-in-github",
        "colab_type": "text"
      },
      "source": [
        "<a href=\"https://colab.research.google.com/github/tg-bomze/Wav2Lip/blob/master/Wav2Lip_ENG.ipynb\" target=\"_parent\"><img src=\"https://colab.research.google.com/assets/colab-badge.svg\" alt=\"Open In Colab\"/></a>"
      ]
    },
    {
      "cell_type": "markdown",
      "metadata": {
        "id": "r2JvhcRNGa7H",
        "colab_type": "text"
      },
      "source": [
        "<b><font color=\"black\" size=\"+4\">Wav2Lip Colab Eng</font></b>\n",
        "\n",
        "<b><font color=\"black\" size=\"+2\">Based on:</font></b>\n",
        "\n",
        "**GitHub repository**: [Wav2Lip](https://github.com/Rudrabha/Wav2Lip)\n",
        "\n",
        "Article: [A Lip Sync Expert Is All You Need for Speech to Lip Generation In The Wild](http://arxiv.org/abs/2008.10010)\n",
        "\n",
        "Creators: **[K R Prajwal](https://scholar.google.co.in/citations?user=C-wGb2sAAAAJ&hl=en), [Rudrabha Mukhopadhyay](https://scholar.google.com/citations?user=sbkDAPcAAAAJ&hl=en), [Vinay P. Namboodiri](https://vinaypn.github.io/), [C V Jawahar](https://faculty.iiit.ac.in/~jawahar/index.html).**\n",
        "\n",
        "<b><font color=\"black\" size=\"+2\">Colab created by:</font></b>\n",
        "\n",
        "GitHub: [@tg-bomze](https://github.com/tg-bomze),\n",
        "Telegram: [@bomze](https://t.me/bomze),\n",
        "Twitter: [@tg_bomze](https://twitter.com/tg_bomze).\n",
        "\n",
        "\n",
        "```\n",
        "To get started, click on the button (where the red arrow indicates). After clicking, wait until the execution is complete.\n",
        "```\n",
        "\n"
      ]
    },
    {
      "cell_type": "code",
      "metadata": {
        "id": "P3LihClHbUd3",
        "colab_type": "code",
        "cellView": "form",
        "colab": {}
      },
      "source": [
        "#@title <b><font color=\"red\" size=\"+3\">←</font><font color=\"black\" size=\"+3\"> Clone Git repository and install all requirements</font></b>\n",
        "import warnings\n",
        "from google.colab import drive\n",
        "from IPython.display import clear_output\n",
        "from google.colab import files\n",
        "import os\n",
        "warnings.filterwarnings(\"ignore\")\n",
        "\n",
        "if 'Wav2Lip' not in os.listdir('/content/'):\n",
        "  !sudo apt-get upgrade ffmpeg\n",
        "  !git clone https://github.com/tg-bomze/Wav2Lip.git\n",
        "  !pip install -r /content/Wav2Lip/requirements.txt\n",
        "%cd /content/Wav2Lip\n",
        "clear_output()"
      ],
      "execution_count": null,
      "outputs": []
    },
    {
      "cell_type": "code",
      "metadata": {
        "id": "qciH4PsUazL_",
        "colab_type": "code",
        "cellView": "form",
        "colab": {}
      },
      "source": [
        "#@title <b><font color=\"red\" size=\"+3\">←</font><font color=\"black\" size=\"+3\"> Save the weights of the pretrained model and copying to Colab</font></b>\n",
        "#@markdown **Follow this link:**\n",
        "\n",
        "#@markdown **https://drive.google.com/drive/folders/1iuMEdkcG0gmER2SPpO6y3TnIttYdk438**\n",
        "\n",
        "#@markdown **1) right click on 'Wav2lip' (top center)**\n",
        "\n",
        "#@markdown **2) select 'Add shortcut to Drive**\n",
        "\n",
        "#@markdown ![](https://raw.githubusercontent.com/tg-bomze/Wav2Lip/master/wav2lip_example.png)\n",
        "\n",
        "#@markdown **3) run this block and follow the further instructions**\n",
        "\n",
        "#@markdown *Attention! If the weights have already been saved, then run this block and just mount Google Drive.*\n",
        "\n",
        "print(\"Follow the link below, select the account where you saved the pretrained model,\")\n",
        "print(\"click the 'Allow' button, copy authorization code in the field below and press Enter.\")\n",
        "drive.mount('/content/drive')\n",
        "clear_output()\n",
        "print(\"0%/100%   Copying has started and will take about 4 minutes.\")\n",
        "!cp -ri \"/content/drive/My Drive/Wav2lip/wav2lip_gan.pth\" /content/Wav2Lip/checkpoints/\n",
        "print(\"80%/100%  Checkpoints copied\")\n",
        "!cp -ri \"/content/drive/My Drive/Wav2lip/s3fd.pth\" /content/Wav2Lip/face_detection/detection/sfd/\n",
        "print(\"100%/100% Dictionary copied\")\n",
        "clear_output()"
      ],
      "execution_count": null,
      "outputs": []
    },
    {
      "cell_type": "code",
      "metadata": {
        "id": "AAZumrSfgQrH",
        "colab_type": "code",
        "cellView": "form",
        "colab": {}
      },
      "source": [
        "#@title <b><font color=\"red\" size=\"+3\">←</font><font color=\"black\" size=\"+3\"> Upload video with a face</font></b>\n",
        "\n",
        "uploaded = list(files.upload().keys())\n",
        "\n",
        "if len(uploaded) > 1:\n",
        "  raise ValueError('You cannot upload more than one video at a time!')\n",
        "\n",
        "vid = uploaded[0]\n",
        "os.rename(vid, vid.replace(\" \", \"\"))\n",
        "vid = vid.replace(\" \", \"\")\n",
        "vid_name = \"video.\" + vid.split(\".\")[-1]\n",
        "!mv -f $vid $vid_name\n",
        "vid = '/content/Wav2Lip/' + vid_name"
      ],
      "execution_count": null,
      "outputs": []
    },
    {
      "cell_type": "code",
      "metadata": {
        "id": "L1UguvFWgeT7",
        "colab_type": "code",
        "cellView": "form",
        "colab": {}
      },
      "source": [
        "#@title <b><font color=\"red\" size=\"+3\">←</font><font color=\"black\" size=\"+3\"> Upload audio (or video) with a speech</font></b>\n",
        "\n",
        "uploaded = list(files.upload().keys())\n",
        "\n",
        "if len(uploaded) > 1:\n",
        "  raise ValueError('You cannot upload more than one video at a time!')\n",
        "\n",
        "aud = uploaded[0]\n",
        "os.rename(aud, aud.replace(\" \", \"\"))\n",
        "aud = aud.replace(\" \", \"\")\n",
        "aud_name = \"audio.\" + aud.split(\".\")[-1]\n",
        "!mv -f $aud $aud_name\n",
        "aud = '/content/Wav2Lip/' + aud_name"
      ],
      "execution_count": null,
      "outputs": []
    },
    {
      "cell_type": "code",
      "metadata": {
        "id": "1EAgQmcRkI1f",
        "colab_type": "code",
        "cellView": "form",
        "colab": {}
      },
      "source": [
        "#@title <b><font color=\"red\" size=\"+3\">←</font><font color=\"black\" size=\"+3\"> Synchronizing lip movement</font></b>\n",
        "\n",
        "%%time\n",
        "!python inference.py --checkpoint_path checkpoints/wav2lip_gan.pth --face $vid --audio $aud\n",
        "if 'result_voice.mp4' in os.listdir('/content/Wav2Lip/results/'):\n",
        "  clear_output()\n",
        "  print('All perfectly. The file has been generated!')\n",
        "else:\n",
        "  print('\\nThere were some problems. The file was not generated')"
      ],
      "execution_count": null,
      "outputs": []
    },
    {
      "cell_type": "code",
      "metadata": {
        "id": "_nBRvdP9jICw",
        "colab_type": "code",
        "cellView": "form",
        "colab": {}
      },
      "source": [
        "#@title <b><font color=\"red\" size=\"+3\">←</font><font color=\"black\" size=\"+3\"> Downloading the final result</font></b>\n",
        "files.download('/content/Wav2Lip/results/result_voice.mp4')"
      ],
      "execution_count": null,
      "outputs": []
    }
  ]
}